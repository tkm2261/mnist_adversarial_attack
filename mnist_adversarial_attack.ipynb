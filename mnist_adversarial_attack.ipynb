{
  "nbformat": 4,
  "nbformat_minor": 0,
  "metadata": {
    "colab": {
      "name": "mnist_adversarial_attack.ipynb",
      "version": "0.3.2",
      "provenance": [],
      "toc_visible": true,
      "include_colab_link": true
    },
    "kernelspec": {
      "name": "python3",
      "display_name": "Python 3"
    },
    "accelerator": "GPU"
  },
  "cells": [
    {
      "cell_type": "markdown",
      "metadata": {
        "id": "view-in-github",
        "colab_type": "text"
      },
      "source": [
        "<a href=\"https://colab.research.google.com/github/tkm2261/mnist_adversarial_attack/blob/master/mnist_adversarial_attack.ipynb\" target=\"_parent\"><img src=\"https://colab.research.google.com/assets/colab-badge.svg\" alt=\"Open In Colab\"/></a>"
      ]
    },
    {
      "metadata": {
        "id": "qcyapEnsve_w",
        "colab_type": "code",
        "colab": {
          "base_uri": "https://localhost:8080/",
          "height": 187
        },
        "outputId": "478be9c2-6066-4d9a-826e-5418c9033812"
      },
      "cell_type": "code",
      "source": [
        "%matplotlib inline\n",
        "import numpy as np\n",
        "import pandas as pd\n",
        "!pip install keras tqdm -U\n",
        "\n",
        "from tqdm import tqdm\n",
        "import matplotlib.pyplot as plt\n",
        "\n",
        "from sklearn.model_selection import StratifiedKFold\n",
        "\n",
        "import keras\n",
        "from keras.datasets import mnist\n",
        "from keras.models import Model\n",
        "from keras.layers import Input, Dense, Activation, MaxPooling2D, Conv2D, Conv1D, Lambda, Flatten\n",
        "from keras.callbacks import EarlyStopping, ReduceLROnPlateau, ModelCheckpoint, TensorBoard\n",
        "from keras import backend as K\n",
        "from keras.losses import categorical_crossentropy\n",
        "import tensorflow as tf\n",
        "\n",
        "DTYPE = np.float32"
      ],
      "execution_count": 1,
      "outputs": [
        {
          "output_type": "stream",
          "text": [
            "Requirement already up-to-date: keras in /usr/local/lib/python3.6/dist-packages (2.2.4)\n",
            "Requirement already up-to-date: tqdm in /usr/local/lib/python3.6/dist-packages (4.28.1)\n",
            "Requirement already satisfied, skipping upgrade: six>=1.9.0 in /usr/local/lib/python3.6/dist-packages (from keras) (1.11.0)\n",
            "Requirement already satisfied, skipping upgrade: keras-applications>=1.0.6 in /usr/local/lib/python3.6/dist-packages (from keras) (1.0.6)\n",
            "Requirement already satisfied, skipping upgrade: keras-preprocessing>=1.0.5 in /usr/local/lib/python3.6/dist-packages (from keras) (1.0.5)\n",
            "Requirement already satisfied, skipping upgrade: h5py in /usr/local/lib/python3.6/dist-packages (from keras) (2.8.0)\n",
            "Requirement already satisfied, skipping upgrade: pyyaml in /usr/local/lib/python3.6/dist-packages (from keras) (3.13)\n",
            "Requirement already satisfied, skipping upgrade: scipy>=0.14 in /usr/local/lib/python3.6/dist-packages (from keras) (0.19.1)\n",
            "Requirement already satisfied, skipping upgrade: numpy>=1.9.1 in /usr/local/lib/python3.6/dist-packages (from keras) (1.14.6)\n"
          ],
          "name": "stdout"
        },
        {
          "output_type": "stream",
          "text": [
            "Using TensorFlow backend.\n"
          ],
          "name": "stderr"
        }
      ]
    },
    {
      "metadata": {
        "id": "5rZb3Xj1v-oE",
        "colab_type": "code",
        "colab": {
          "base_uri": "https://localhost:8080/",
          "height": 34
        },
        "outputId": "6685ae56-e15e-4158-aa6a-26e432f37120"
      },
      "cell_type": "code",
      "source": [
        "tf.test.gpu_device_name(), keras.__version__"
      ],
      "execution_count": 2,
      "outputs": [
        {
          "output_type": "execute_result",
          "data": {
            "text/plain": [
              "('/device:GPU:0', '2.2.4')"
            ]
          },
          "metadata": {
            "tags": []
          },
          "execution_count": 2
        }
      ]
    },
    {
      "metadata": {
        "id": "eid5WS5glgg-",
        "colab_type": "text"
      },
      "cell_type": "markdown",
      "source": [
        "# Load data"
      ]
    },
    {
      "metadata": {
        "id": "urWeBNgdv-4d",
        "colab_type": "code",
        "colab": {}
      },
      "cell_type": "code",
      "source": [
        "(x_all, y_all), (x_test, y_test) = mnist.load_data()\n",
        "\n",
        "idx_train, idx_valid = next(StratifiedKFold(n_splits=10, shuffle=True, random_state=0).split(x_all, y_all))\n",
        "\n",
        "x_train = (x_all[idx_train] / 255).astype(DTYPE)\n",
        "y_train = y_all[idx_train]\n",
        "x_valid = (x_all[idx_valid] / 255).astype(DTYPE)\n",
        "y_valid = y_all[idx_valid]\n",
        "x_test = (x_test / 255).astype(DTYPE)\n",
        "y_all_onehot = np.eye(10)[y_all].astype(DTYPE)\n",
        "y_train_onehot = np.eye(10)[y_train].astype(DTYPE)\n",
        "y_valid_onehot = np.eye(10)[y_valid].astype(DTYPE)\n",
        "y_test_onehot = np.eye(10)[y_test].astype(DTYPE)"
      ],
      "execution_count": 0,
      "outputs": []
    },
    {
      "metadata": {
        "id": "p4A2FR7GwJmG",
        "colab_type": "text"
      },
      "cell_type": "markdown",
      "source": [
        "# Check data"
      ]
    },
    {
      "metadata": {
        "id": "zdxOJDJfv-7U",
        "colab_type": "code",
        "colab": {
          "base_uri": "https://localhost:8080/",
          "height": 97
        },
        "outputId": "6beca534-c515-467b-a8d5-b373034e31c5"
      },
      "cell_type": "code",
      "source": [
        "for i in range(10):\n",
        "    plt.subplot(1,10, i+1)\n",
        "    plt.imshow((x_train[i] * 255).astype(int), cmap='Greys_r')\n",
        "    plt.axis('off')\n",
        "plt.show()\n",
        "print('label: %s' % (y_train[0:10],))"
      ],
      "execution_count": 4,
      "outputs": [
        {
          "output_type": "display_data",
          "data": {
            "image/png": "[encoded data removed]",
            "text/plain": [
              "<matplotlib.figure.Figure at 0x7ff7c4c60630>"
            ]
          },
          "metadata": {
            "tags": []
          }
        },
        {
          "output_type": "stream",
          "text": [
            "label: [5 0 4 1 9 2 1 3 1 5]\n"
          ],
          "name": "stdout"
        }
      ]
    },
    {
      "metadata": {
        "id": "mIwJBPkdlzS_",
        "colab_type": "text"
      },
      "cell_type": "markdown",
      "source": [
        "# Define network"
      ]
    },
    {
      "metadata": {
        "id": "lPNm5v_0v--f",
        "colab_type": "code",
        "colab": {}
      },
      "cell_type": "code",
      "source": [
        "def create_network(input_shape=(28, 28), learning_rate=1.0e-4):\n",
        "    \"\"\"create_network\n",
        "    \n",
        "    This network is the same as this paper: https://nicholas.carlini.com/papers/2017_sp_nnrobustattacks.pdf\n",
        "    \"\"\"\n",
        "    input_data = Input(shape=input_shape, dtype=DTYPE, name='input')\n",
        "    hidden = Lambda(K.expand_dims)(input_data) # create channel dim\n",
        "    hidden = Conv2D(32, (3, 3), padding='same')(hidden)\n",
        "    hidden = Activation('relu')(hidden)\n",
        "    hidden = Conv2D(32, (3, 3), padding='same')(hidden)\n",
        "    hidden = Activation('relu')(hidden)\n",
        "    hidden = MaxPooling2D(pool_size=(2, 2))(hidden)\n",
        "    hidden = Conv2D(64, (3, 3), padding='same')(hidden)\n",
        "    hidden = Activation('relu')(hidden)\n",
        "    hidden = Conv2D(64, (3, 3), padding='same')(hidden)\n",
        "    hidden = Activation('relu')(hidden)\n",
        "    hidden = MaxPooling2D(pool_size=(2, 2))(hidden)\n",
        "    \n",
        "    hidden = Flatten()(hidden)\n",
        "    hidden = Dense(200)(hidden)\n",
        "    hidden = Dense(200)(hidden)\n",
        "    hidden = Dense(10, name='before_softmax')(hidden)\n",
        "    output = Activation('softmax')(hidden)\n",
        "    \n",
        "    model = Model(input_data, output)\n",
        "    model.compile(loss='categorical_crossentropy',\n",
        "                  optimizer=keras.optimizers.Adam(lr=learning_rate),\n",
        "                  metrics=['accuracy'])\n",
        "    return model\n",
        "    "
      ],
      "execution_count": 0,
      "outputs": []
    },
    {
      "metadata": {
        "id": "WP1CafXUwStO",
        "colab_type": "code",
        "colab": {
          "base_uri": "https://localhost:8080/",
          "height": 714
        },
        "outputId": "efee70cd-3524-412e-c8ac-b4db65f57030"
      },
      "cell_type": "code",
      "source": [
        "model = create_network()\n",
        "model.summary()"
      ],
      "execution_count": 6,
      "outputs": [
        {
          "output_type": "stream",
          "text": [
            "_________________________________________________________________\n",
            "Layer (type)                 Output Shape              Param #   \n",
            "=================================================================\n",
            "input (InputLayer)           (None, 28, 28)            0         \n",
            "_________________________________________________________________\n",
            "lambda_1 (Lambda)            (None, 28, 28, 1)         0         \n",
            "_________________________________________________________________\n",
            "conv2d_1 (Conv2D)            (None, 28, 28, 32)        320       \n",
            "_________________________________________________________________\n",
            "activation_1 (Activation)    (None, 28, 28, 32)        0         \n",
            "_________________________________________________________________\n",
            "conv2d_2 (Conv2D)            (None, 28, 28, 32)        9248      \n",
            "_________________________________________________________________\n",
            "activation_2 (Activation)    (None, 28, 28, 32)        0         \n",
            "_________________________________________________________________\n",
            "max_pooling2d_1 (MaxPooling2 (None, 14, 14, 32)        0         \n",
            "_________________________________________________________________\n",
            "conv2d_3 (Conv2D)            (None, 14, 14, 64)        18496     \n",
            "_________________________________________________________________\n",
            "activation_3 (Activation)    (None, 14, 14, 64)        0         \n",
            "_________________________________________________________________\n",
            "conv2d_4 (Conv2D)            (None, 14, 14, 64)        36928     \n",
            "_________________________________________________________________\n",
            "activation_4 (Activation)    (None, 14, 14, 64)        0         \n",
            "_________________________________________________________________\n",
            "max_pooling2d_2 (MaxPooling2 (None, 7, 7, 64)          0         \n",
            "_________________________________________________________________\n",
            "flatten_1 (Flatten)          (None, 3136)              0         \n",
            "_________________________________________________________________\n",
            "dense_1 (Dense)              (None, 200)               627400    \n",
            "_________________________________________________________________\n",
            "dense_2 (Dense)              (None, 200)               40200     \n",
            "_________________________________________________________________\n",
            "before_softmax (Dense)       (None, 10)                2010      \n",
            "_________________________________________________________________\n",
            "activation_5 (Activation)    (None, 10)                0         \n",
            "=================================================================\n",
            "Total params: 734,602\n",
            "Trainable params: 734,602\n",
            "Non-trainable params: 0\n",
            "_________________________________________________________________\n"
          ],
          "name": "stdout"
        }
      ]
    },
    {
      "metadata": {
        "id": "m1PF6ZYbl6wk",
        "colab_type": "text"
      },
      "cell_type": "markdown",
      "source": [
        "# Train and Evaluate model"
      ]
    },
    {
      "metadata": {
        "id": "vQFTP1S-wS1O",
        "colab_type": "code",
        "colab": {}
      },
      "cell_type": "code",
      "source": [
        "metric = 'val_loss'\n",
        "mode = 'min'\n",
        "callbacks = [EarlyStopping(monitor=metric,\n",
        "                           patience=8,\n",
        "                           verbose=1,\n",
        "                           min_delta=1e-4,\n",
        "                           mode=mode),\n",
        "             ReduceLROnPlateau(monitor=metric,\n",
        "                               factor=0.1,\n",
        "                               patience=4,\n",
        "                               verbose=1,\n",
        "                               min_delta=1e-4,\n",
        "                               mode=mode),\n",
        "             ModelCheckpoint(monitor=metric,\n",
        "                             filepath='best_weights.hdf5',\n",
        "                             save_best_only=False,\n",
        "                             save_weights_only=False,\n",
        "                             mode='min')]\n",
        "\n",
        "#model.fit(x_train, y_train_onehot, epochs=10000, batch_size=128, callbacks=callbacks, \n",
        "#          validation_data=(x_valid, y_valid_onehot))"
      ],
      "execution_count": 0,
      "outputs": []
    },
    {
      "metadata": {
        "id": "Y8ETlsNEwS4g",
        "colab_type": "code",
        "colab": {
          "base_uri": "https://localhost:8080/",
          "height": 34
        },
        "outputId": "1e797d9a-2fc4-4050-fe81-907bc536f311"
      },
      "cell_type": "code",
      "source": [
        "model.load_weights('best_weights.hdf5')\n",
        "preds = model.predict(x_test, batch_size=512)\n",
        "pred_labels = preds.argmax(axis=1)\n",
        "print('Test Accuracy:', (pred_labels == y_test).mean())"
      ],
      "execution_count": 8,
      "outputs": [
        {
          "output_type": "stream",
          "text": [
            "Test Accuracy: 0.9908\n"
          ],
          "name": "stdout"
        }
      ]
    },
    {
      "metadata": {
        "id": "1zzq3vaq7b11",
        "colab_type": "code",
        "colab": {
          "base_uri": "https://localhost:8080/",
          "height": 114
        },
        "outputId": "556b75f0-41f4-4a48-ff59-23990db978c5"
      },
      "cell_type": "code",
      "source": [
        "for i in range(10):\n",
        "    plt.subplot(1,10, i+1)\n",
        "    plt.imshow((x_test[i] * 255).astype(int), cmap='Greys_r')\n",
        "    plt.axis('off')\n",
        "plt.show()\n",
        "print('pred label: %s' % (pred_labels[0:10],))\n",
        "print('true label: %s' % (y_test[0:10],))"
      ],
      "execution_count": 9,
      "outputs": [
        {
          "output_type": "display_data",
          "data": {
            "image/png": "[encoded data removed]",
            "text/plain": [
              "<matplotlib.figure.Figure at 0x7ff7c0246a58>"
            ]
          },
          "metadata": {
            "tags": []
          }
        },
        {
          "output_type": "stream",
          "text": [
            "pred label: [7 2 1 0 4 1 4 9 5 9]\n",
            "true label: [7 2 1 0 4 1 4 9 5 9]\n"
          ],
          "name": "stdout"
        }
      ]
    },
    {
      "metadata": {
        "id": "ZmRc4oNbmMgt",
        "colab_type": "text"
      },
      "cell_type": "markdown",
      "source": [
        "# Create Adversarial examples"
      ]
    },
    {
      "metadata": {
        "id": "PM353BRymkes",
        "colab_type": "text"
      },
      "cell_type": "markdown",
      "source": [
        "## Define objectives"
      ]
    },
    {
      "metadata": {
        "id": "qW8KiPYpwS7n",
        "colab_type": "code",
        "colab": {}
      },
      "cell_type": "code",
      "source": [
        "def adv_obj1(y_target, y_pred):\n",
        "  return - tf.log(tf.reduce_max(tf.multiply(y_target, y_pred), axis=None)) + 1\n",
        "  \n",
        "def adv_obj2(y_target, y_pred):\n",
        "  target_pred = tf.reduce_max(tf.multiply(y_target, y_pred), axis=None)\n",
        "  second_pred = tf.reduce_max(tf.multiply(- y_target, y_pred), axis=None)\n",
        "  diff = tf.clip_by_value(second_pred - target_pred, 0, 1)\n",
        "  return diff\n",
        "  \n",
        "def adv_obj3(y_target, y_pred):\n",
        "  target_pred = tf.reduce_max(tf.multiply(y_target, y_pred), axis=None)\n",
        "  second_pred = tf.reduce_max(tf.multiply(- y_target, y_pred), axis=None)\n",
        "  diff = second_pred - target_pred\n",
        "  return tf.math.softplus(diff) - np.log(2)\n",
        "\n",
        "def adv_obj4(y_target, y_pred):\n",
        "  target_pred = tf.reduce_max(tf.multiply(y_target, y_pred), axis=None)\n",
        "  diff = tf.clip_by_value(0.5 - target_pred, 0, 1)\n",
        "  return tf.reduce_mean(diff)\n",
        "\n",
        "def adv_obj5(y_target, y_pred):\n",
        "  target_pred = tf.reduce_max(tf.multiply(y_target, y_pred), axis=None)\n",
        "  return - tf.math.log(2 * target_pred - 2)\n",
        "\n",
        "def adv_obj6(y_target, y_pred_before_softmax):\n",
        "  return adv_obj2(y_target, y_pred_before_softmax)\n",
        "  \n",
        "def adv_obj7(y_target, y_pred_before_softmax):\n",
        "  return adv_obj3(y_target, y_pred_before_softmax)\n",
        "\n",
        "def l2_norm(delta):\n",
        "  return tf.reduce_sum(tf.square(delta))"
      ],
      "execution_count": 0,
      "outputs": []
    },
    {
      "metadata": {
        "id": "VVRmOdfZmtSv",
        "colab_type": "text"
      },
      "cell_type": "markdown",
      "source": [
        "## Define \"create_adversal_example\" method"
      ]
    },
    {
      "metadata": {
        "id": "sFZILMbgRLdk",
        "colab_type": "code",
        "colab": {}
      },
      "cell_type": "code",
      "source": [
        "class CWAdversarial:\n",
        "  def __init__(self, sess, model, max_iter=10000, norm_p=2, tol=1.0e-15, shape=(1, 28, 28), lr=0.1, c=10):\n",
        "    self.sess = sess\n",
        "    self.model = model\n",
        "    self.max_iter = max_iter\n",
        "    self.norm_p = norm_p\n",
        "    self.tol = tol\n",
        "    self.shape = shape\n",
        "    self.lr = lr\n",
        "    self.c = c\n",
        "    \n",
        "    self.buf_data = tf.placeholder(DTYPE, shape=shape)\n",
        "    self.buf_target_label = tf.placeholder(DTYPE, shape=(1, 10))\n",
        "\n",
        "    self.delta = tf.Variable(np.zeros(shape, dtype=DTYPE))\n",
        "    self.data = tf.Variable(np.zeros(shape, dtype=DTYPE))\n",
        "    self.target_label  = tf.Variable(np.zeros(shape=(1, 10), dtype=DTYPE))\n",
        "\n",
        "    self.pred = model(tf.clip_by_value(self.delta + self.data, 0, 1))\n",
        "\n",
        "    self.obj = l2_norm(self.delta) + self.c * adv_obj1(self.target_label, self.pred)\n",
        "    self.optimizer = tf.train.AdamOptimizer(self.lr)\n",
        "    self.train_step = self.optimizer.minimize(self.obj, var_list=[self.delta])\n",
        "    \n",
        "    self.new_vars = [v for v in tf.global_variables() if v.name.split(':')[0]\n",
        "                     in set(sess.run(tf.report_uninitialized_variables()))]\n",
        "    \n",
        "  def create_adversal_example(self, _img, _target_label):\n",
        "\n",
        "      _perturbation = np.zeros(self.shape, dtype=DTYPE)\n",
        "\n",
        "      _prev_objval = None\n",
        "      _objval = None\n",
        "\n",
        "      self.sess.run(tf.variables_initializer(var_list=[self.data, self.delta] + self.optimizer.variables()))\n",
        "      self.sess.run(tf.variables_initializer(self.new_vars))\n",
        "      \n",
        "      self.sess.run(self.data.assign(self.buf_data), {self.buf_data: _img})\n",
        "      self.sess.run(self.target_label.assign(self.buf_target_label), {self.buf_target_label: _target_label})\n",
        "\n",
        "      print('initial label:', self.sess.run(self.pred)[0].argmax(), self.model.predict(_img)[0].argmax())\n",
        "\n",
        "      for itr in range(self.max_iter):\n",
        "\n",
        "          #with tf.device('/device:GPU:0'):\n",
        "          self.sess.run(self.train_step)\n",
        "          \n",
        "          if itr % 1000 == 0:\n",
        "            _objval, _perturbation, _pred = self.sess.run([self.obj, self.delta, self.pred])\n",
        "            print('iter:', itr, 'current predicted label:', _pred[0].argmax(),\n",
        "                    'sum perturbation:', _perturbation.sum(), 'obj', _objval)\n",
        "\n",
        "            if _prev_objval is not None and _objval is not None and (_prev_objval - _objval) ** 2 < self.tol:\n",
        "                break\n",
        "            _prev_objval = _objval\n",
        "      _objval, _perturbation, _pred = self.sess.run([self.obj, self.delta, self.pred])\n",
        "      print('iter:', itr, 'current predicted label:', _pred[0].argmax(),\n",
        "                    'sum perturbation:', _perturbation.sum(), 'obj', _objval)\n",
        "      return _perturbation"
      ],
      "execution_count": 0,
      "outputs": []
    },
    {
      "metadata": {
        "id": "ljKA_IiOmsAr",
        "colab_type": "text"
      },
      "cell_type": "markdown",
      "source": [
        "## Create adversal examples"
      ]
    },
    {
      "metadata": {
        "id": "Bl9yieOswTA7",
        "colab_type": "code",
        "colab": {
          "base_uri": "https://localhost:8080/",
          "height": 2094
        },
        "outputId": "b27ffbcc-d141-4971-fabf-d9acbc8151ab"
      },
      "cell_type": "code",
      "source": [
        "\n",
        "targets = [1, 8, 7, 9, 7, 3, 1, 6, 2, 0]\n",
        "list_new_imgs = []\n",
        "with tf.Session() as sess:\n",
        "  model = create_network()\n",
        "  model.load_weights('best_weights.hdf5')\n",
        "  cwa = CWAdversarial(sess, model)\n",
        "  for i in tqdm(range(10), desc='per img'):\n",
        "    target_onehot = np.zeros(10, dtype=DTYPE)\n",
        "    target_onehot[targets[i]] = 1\n",
        "    target_onehot = np.expand_dims(target_onehot, axis=0)\n",
        "    \n",
        "    img = np.expand_dims(x_test[i], axis=0)\n",
        "\n",
        "    perturbation = cwa.create_adversal_example(img, target_onehot)\n",
        "    new_img = (img + perturbation).clip(0, 1)[0]\n",
        "    list_new_imgs.append(new_img)"
      ],
      "execution_count": 12,
      "outputs": [
        {
          "output_type": "stream",
          "text": [
            "\rper img:   0%|          | 0/10 [00:00<?, ?it/s]"
          ],
          "name": "stderr"
        },
        {
          "output_type": "stream",
          "text": [
            "initial label: 7 7\n",
            "iter: 0 current predicted label: 7 sum perturbation: 5.599988 obj 102.613304\n",
            "iter: 1000 current predicted label: 1 sum perturbation: 17.174229 obj 16.688253\n",
            "iter: 2000 current predicted label: 1 sum perturbation: 15.849928 obj 16.524103\n",
            "iter: 3000 current predicted label: 1 sum perturbation: 16.291882 obj 16.53326\n",
            "iter: 4000 current predicted label: 1 sum perturbation: 15.914632 obj 16.58184\n",
            "iter: 5000 current predicted label: 1 sum perturbation: 17.130363 obj 16.500895\n",
            "iter: 6000 current predicted label: 1 sum perturbation: 15.456898 obj 16.612373\n",
            "iter: 7000 current predicted label: 1 sum perturbation: 16.55824 obj 16.516195\n",
            "iter: 8000 current predicted label: 1 sum perturbation: 15.005392 obj 16.64609\n",
            "iter: 9000 current predicted label: 1 sum perturbation: 16.437698 obj 16.515877\n"
          ],
          "name": "stdout"
        },
        {
          "output_type": "stream",
          "text": [
            "\rper img:  10%|█         | 1/10 [00:22<03:24, 22.69s/it]"
          ],
          "name": "stderr"
        },
        {
          "output_type": "stream",
          "text": [
            "iter: 9999 current predicted label: 1 sum perturbation: 15.842196 obj 16.583332\n",
            "initial label: 2 2\n",
            "iter: 0 current predicted label: 2 sum perturbation: 4.199982 obj 82.61323\n",
            "iter: 1000 current predicted label: 8 sum perturbation: 12.772417 obj 15.48224\n",
            "iter: 2000 current predicted label: 8 sum perturbation: 11.71011 obj 15.679289\n",
            "iter: 3000 current predicted label: 8 sum perturbation: 7.726965 obj 18.226358\n",
            "iter: 4000 current predicted label: 8 sum perturbation: 13.0876875 obj 15.613752\n",
            "iter: 5000 current predicted label: 8 sum perturbation: 11.464375 obj 15.800948\n",
            "iter: 6000 current predicted label: 8 sum perturbation: 12.620775 obj 15.72769\n",
            "iter: 7000 current predicted label: 8 sum perturbation: 11.705254 obj 15.813531\n",
            "iter: 8000 current predicted label: 8 sum perturbation: 12.609358 obj 15.838504\n",
            "iter: 9000 current predicted label: 8 sum perturbation: 12.1210985 obj 15.758345\n"
          ],
          "name": "stdout"
        },
        {
          "output_type": "stream",
          "text": [
            "\rper img:  20%|██        | 2/10 [00:45<03:01, 22.72s/it]"
          ],
          "name": "stderr"
        },
        {
          "output_type": "stream",
          "text": [
            "iter: 9999 current predicted label: 8 sum perturbation: 12.649911 obj 15.552724\n",
            "initial label: 1 1\n",
            "iter: 0 current predicted label: 1 sum perturbation: -4.4000015 obj 54.040024\n",
            "iter: 1000 current predicted label: 7 sum perturbation: 11.085617 obj 13.203326\n",
            "iter: 2000 current predicted label: 7 sum perturbation: 10.562693 obj 13.261996\n",
            "iter: 3000 current predicted label: 7 sum perturbation: 10.226723 obj 13.314902\n",
            "iter: 4000 current predicted label: 7 sum perturbation: 10.532873 obj 13.330095\n",
            "iter: 5000 current predicted label: 7 sum perturbation: 10.504195 obj 13.39699\n",
            "iter: 6000 current predicted label: 7 sum perturbation: 9.785149 obj 13.31311\n",
            "iter: 7000 current predicted label: 7 sum perturbation: 9.7017 obj 13.415185\n",
            "iter: 8000 current predicted label: 7 sum perturbation: 9.956288 obj 13.37398\n",
            "iter: 9000 current predicted label: 7 sum perturbation: 11.632719 obj 13.172183\n"
          ],
          "name": "stdout"
        },
        {
          "output_type": "stream",
          "text": [
            "\rper img:  30%|███       | 3/10 [01:12<02:48, 24.10s/it]"
          ],
          "name": "stderr"
        },
        {
          "output_type": "stream",
          "text": [
            "iter: 9999 current predicted label: 7 sum perturbation: 10.809031 obj 13.227831\n",
            "initial label: 0 0\n",
            "iter: 0 current predicted label: 0 sum perturbation: -0.8000368 obj 95.60385\n",
            "iter: 1000 current predicted label: 9 sum perturbation: 7.5924153 obj 14.845737\n",
            "iter: 2000 current predicted label: 9 sum perturbation: 6.9590225 obj 14.952036\n",
            "iter: 3000 current predicted label: 9 sum perturbation: 7.7089605 obj 14.846441\n",
            "iter: 4000 current predicted label: 9 sum perturbation: 6.8776345 obj 14.919677\n",
            "iter: 5000 current predicted label: 9 sum perturbation: 5.7794576 obj 15.094647\n",
            "iter: 6000 current predicted label: 9 sum perturbation: 7.192295 obj 14.832529\n",
            "iter: 7000 current predicted label: 9 sum perturbation: 7.32581 obj 14.868959\n",
            "iter: 8000 current predicted label: 9 sum perturbation: 5.8738866 obj 15.020792\n",
            "iter: 9000 current predicted label: 9 sum perturbation: 5.5978236 obj 15.004335\n"
          ],
          "name": "stdout"
        },
        {
          "output_type": "stream",
          "text": [
            "\rper img:  40%|████      | 4/10 [01:37<02:25, 24.33s/it]"
          ],
          "name": "stderr"
        },
        {
          "output_type": "stream",
          "text": [
            "iter: 9999 current predicted label: 9 sum perturbation: 6.1319404 obj 14.964781\n",
            "initial label: 4 4\n",
            "iter: 0 current predicted label: 4 sum perturbation: 1.7999966 obj 70.62199\n",
            "iter: 1000 current predicted label: 7 sum perturbation: 8.99397 obj 13.393226\n",
            "iter: 2000 current predicted label: 7 sum perturbation: 7.6147923 obj 13.451954\n",
            "iter: 3000 current predicted label: 7 sum perturbation: 7.6633997 obj 13.484944\n",
            "iter: 4000 current predicted label: 7 sum perturbation: 9.050162 obj 13.37203\n",
            "iter: 5000 current predicted label: 7 sum perturbation: 7.8880453 obj 13.417351\n",
            "iter: 6000 current predicted label: 7 sum perturbation: 7.470179 obj 13.5162115\n",
            "iter: 7000 current predicted label: 7 sum perturbation: 6.3142734 obj 13.598026\n",
            "iter: 8000 current predicted label: 7 sum perturbation: 8.375646 obj 13.380254\n",
            "iter: 9000 current predicted label: 7 sum perturbation: 8.067651 obj 13.416113\n"
          ],
          "name": "stdout"
        },
        {
          "output_type": "stream",
          "text": [
            "\rper img:  50%|█████     | 5/10 [02:03<02:04, 24.80s/it]"
          ],
          "name": "stderr"
        },
        {
          "output_type": "stream",
          "text": [
            "iter: 9999 current predicted label: 7 sum perturbation: 7.263279 obj 13.514715\n",
            "initial label: 1 1\n",
            "iter: 0 current predicted label: 1 sum perturbation: 2.200001 obj 124.01875\n",
            "iter: 1000 current predicted label: 3 sum perturbation: 12.224799 obj 14.5607195\n",
            "iter: 2000 current predicted label: 3 sum perturbation: 9.090778 obj 14.938076\n",
            "iter: 3000 current predicted label: 3 sum perturbation: 12.079279 obj 14.368662\n",
            "iter: 4000 current predicted label: 3 sum perturbation: 12.455378 obj 14.352844\n",
            "iter: 5000 current predicted label: 3 sum perturbation: 12.070032 obj 14.367717\n",
            "iter: 6000 current predicted label: 3 sum perturbation: 12.945728 obj 14.384347\n",
            "iter: 7000 current predicted label: 3 sum perturbation: 12.345694 obj 14.424097\n",
            "iter: 8000 current predicted label: 3 sum perturbation: 12.233005 obj 14.32762\n",
            "iter: 9000 current predicted label: 3 sum perturbation: 12.309309 obj 14.349627\n"
          ],
          "name": "stdout"
        },
        {
          "output_type": "stream",
          "text": [
            "\rper img:  60%|██████    | 6/10 [02:29<01:40, 25.11s/it]"
          ],
          "name": "stderr"
        },
        {
          "output_type": "stream",
          "text": [
            "iter: 9999 current predicted label: 3 sum perturbation: 11.83872 obj 14.386078\n",
            "initial label: 4 4\n",
            "iter: 0 current predicted label: 4 sum perturbation: 0.6000159 obj 41.498177\n",
            "iter: 1000 current predicted label: 1 sum perturbation: 9.143868 obj 13.574789\n",
            "iter: 2000 current predicted label: 1 sum perturbation: 8.757785 obj 13.660067\n",
            "iter: 3000 current predicted label: 1 sum perturbation: 9.141556 obj 13.638746\n",
            "iter: 4000 current predicted label: 1 sum perturbation: 8.506002 obj 13.703527\n",
            "iter: 5000 current predicted label: 1 sum perturbation: 9.520789 obj 13.537138\n",
            "iter: 6000 current predicted label: 1 sum perturbation: 9.040304 obj 13.579218\n",
            "iter: 7000 current predicted label: 1 sum perturbation: 8.486222 obj 13.694965\n",
            "iter: 8000 current predicted label: 1 sum perturbation: 8.343535 obj 13.638031\n",
            "iter: 9000 current predicted label: 1 sum perturbation: 9.954045 obj 13.527645\n"
          ],
          "name": "stdout"
        },
        {
          "output_type": "stream",
          "text": [
            "\rper img:  70%|███████   | 7/10 [02:54<01:15, 25.13s/it]"
          ],
          "name": "stderr"
        },
        {
          "output_type": "stream",
          "text": [
            "iter: 9999 current predicted label: 1 sum perturbation: 9.540491 obj 13.552993\n",
            "initial label: 9 9\n",
            "iter: 0 current predicted label: 4 sum perturbation: -1.1999197 obj 148.47177\n",
            "iter: 1000 current predicted label: 6 sum perturbation: 14.223608 obj 17.865826\n",
            "iter: 2000 current predicted label: 6 sum perturbation: 12.822165 obj 17.996649\n",
            "iter: 3000 current predicted label: 6 sum perturbation: 14.285036 obj 17.839207\n",
            "iter: 4000 current predicted label: 6 sum perturbation: 13.695326 obj 18.05088\n",
            "iter: 5000 current predicted label: 6 sum perturbation: 14.39459 obj 17.842592\n",
            "iter: 6000 current predicted label: 6 sum perturbation: 13.367293 obj 17.938168\n",
            "iter: 7000 current predicted label: 6 sum perturbation: 14.518099 obj 18.031246\n",
            "iter: 8000 current predicted label: 6 sum perturbation: 13.836819 obj 18.1174\n",
            "iter: 9000 current predicted label: 6 sum perturbation: 14.843174 obj 18.01615\n"
          ],
          "name": "stdout"
        },
        {
          "output_type": "stream",
          "text": [
            "\rper img:  80%|████████  | 8/10 [03:19<00:50, 25.17s/it]"
          ],
          "name": "stderr"
        },
        {
          "output_type": "stream",
          "text": [
            "iter: 9999 current predicted label: 6 sum perturbation: 14.108921 obj 18.088223\n",
            "initial label: 5 5\n",
            "iter: 0 current predicted label: 5 sum perturbation: -2.7999759 obj 105.66282\n",
            "iter: 1000 current predicted label: 2 sum perturbation: 12.641262 obj 15.094465\n",
            "iter: 2000 current predicted label: 2 sum perturbation: 12.007076 obj 15.21469\n",
            "iter: 3000 current predicted label: 2 sum perturbation: 13.124597 obj 15.069173\n",
            "iter: 4000 current predicted label: 2 sum perturbation: 12.399008 obj 15.098019\n",
            "iter: 5000 current predicted label: 2 sum perturbation: 12.916149 obj 15.06306\n",
            "iter: 6000 current predicted label: 2 sum perturbation: 12.416542 obj 15.099942\n",
            "iter: 7000 current predicted label: 2 sum perturbation: 12.972023 obj 15.060204\n",
            "iter: 8000 current predicted label: 2 sum perturbation: 12.53552 obj 15.104295\n",
            "iter: 9000 current predicted label: 2 sum perturbation: 12.9459305 obj 15.062441\n"
          ],
          "name": "stdout"
        },
        {
          "output_type": "stream",
          "text": [
            "\rper img:  90%|█████████ | 9/10 [03:45<00:25, 25.21s/it]"
          ],
          "name": "stderr"
        },
        {
          "output_type": "stream",
          "text": [
            "iter: 9999 current predicted label: 2 sum perturbation: 12.269764 obj 15.106181\n",
            "initial label: 9 9\n",
            "iter: 0 current predicted label: 9 sum perturbation: 0.20002162 obj 140.21042\n",
            "iter: 1000 current predicted label: 0 sum perturbation: 12.055109 obj 18.730597\n",
            "iter: 2000 current predicted label: 0 sum perturbation: 10.752754 obj 18.884167\n",
            "iter: 3000 current predicted label: 0 sum perturbation: 11.857244 obj 18.70494\n",
            "iter: 4000 current predicted label: 0 sum perturbation: 11.505978 obj 18.807293\n",
            "iter: 5000 current predicted label: 0 sum perturbation: 11.385433 obj 18.651957\n",
            "iter: 6000 current predicted label: 0 sum perturbation: 11.408051 obj 18.59721\n",
            "iter: 7000 current predicted label: 0 sum perturbation: 10.415789 obj 18.647049\n",
            "iter: 8000 current predicted label: 0 sum perturbation: 11.063572 obj 18.653093\n",
            "iter: 9000 current predicted label: 0 sum perturbation: 10.799842 obj 18.681114\n"
          ],
          "name": "stdout"
        },
        {
          "output_type": "stream",
          "text": [
            "\rper img: 100%|██████████| 10/10 [04:09<00:00, 24.92s/it]"
          ],
          "name": "stderr"
        },
        {
          "output_type": "stream",
          "text": [
            "iter: 9999 current predicted label: 0 sum perturbation: 11.214027 obj 18.641308\n"
          ],
          "name": "stdout"
        },
        {
          "output_type": "stream",
          "text": [
            "\n"
          ],
          "name": "stderr"
        }
      ]
    },
    {
      "metadata": {
        "id": "JeeP2XahrLRj",
        "colab_type": "code",
        "colab": {
          "base_uri": "https://localhost:8080/",
          "height": 211
        },
        "outputId": "9cfe6f60-173b-4b36-cf43-2eee4f8d863b"
      },
      "cell_type": "code",
      "source": [
        "\n",
        "for i in range(10):\n",
        "    plt.subplot(1,10, i+1)\n",
        "    plt.imshow((x_test[i] * 255).astype(int), cmap='Greys_r')\n",
        "    plt.axis('off')\n",
        "plt.show()\n",
        "\n",
        "for i in range(10):\n",
        "    plt.subplot(1,10, i+1)\n",
        "    plt.imshow((list_new_imgs[i] * 255).astype(int), cmap='Greys_r')\n",
        "    plt.axis('off')\n",
        "plt.show()\n",
        "\n",
        "model = create_network()\n",
        "model.load_weights('best_weights.hdf5')\n",
        "attacked_labels = model.predict(np.stack(list_new_imgs)).argmax(axis=1)\n",
        "\n",
        "print('true labels: %s' % (y_test[0:10],))\n",
        "print('pred labels: %s' % (pred_labels[0:10],))\n",
        "print('adversarial target labels: %s' % (targets[0:10],))\n",
        "print('attacked labels: %s' % (attacked_labels[0:10],))\n"
      ],
      "execution_count": 13,
      "outputs": [
        {
          "output_type": "display_data",
          "data": {
            "image/png": "[encoded data removed]",
            "text/plain": [
              "<matplotlib.figure.Figure at 0x7ff7a773edd8>"
            ]
          },
          "metadata": {
            "tags": []
          }
        },
        {
          "output_type": "display_data",
          "data": {
            "image/png": "[encoded data removed]",
            "text/plain": [
              "<matplotlib.figure.Figure at 0x7ff7a9b62828>"
            ]
          },
          "metadata": {
            "tags": []
          }
        },
        {
          "output_type": "stream",
          "text": [
            "true labels: [7 2 1 0 4 1 4 9 5 9]\n",
            "pred labels: [7 2 1 0 4 1 4 9 5 9]\n",
            "adversarial target labels: [1, 8, 7, 9, 7, 3, 1, 6, 2, 0]\n",
            "attacked labels: [1 8 7 9 7 3 1 6 2 0]\n"
          ],
          "name": "stdout"
        }
      ]
    }
  ]
}